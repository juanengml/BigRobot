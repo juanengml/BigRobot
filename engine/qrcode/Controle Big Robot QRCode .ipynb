{
 "cells": [
  {
   "cell_type": "markdown",
   "metadata": {
    "collapsed": true,
    "deletable": true,
    "editable": true
   },
   "source": [
    "# Controle e Simulação Big Robot Usando QRCODE"
   ]
  },
  {
   "cell_type": "markdown",
   "metadata": {},
   "source": [
    "### Antes de tudo instale todas as dependencias. Descomente o # e tecle shift + ENTER"
   ]
  },
  {
   "cell_type": "code",
   "execution_count": 7,
   "metadata": {
    "collapsed": false
   },
   "outputs": [],
   "source": [
    "#! pip install zbar pillow opencv-python==3.1.0.4 zbarlight"
   ]
  },
  {
   "cell_type": "markdown",
   "metadata": {},
   "source": [
    "### Importando bibliotecas "
   ]
  },
  {
   "cell_type": "code",
   "execution_count": null,
   "metadata": {
    "collapsed": true
   },
   "outputs": [],
   "source": [
    "import cv2\n",
    "import zbar\n",
    "from PIL import Image \n",
    "import zbarlight"
   ]
  },
  {
   "cell_type": "markdown",
   "metadata": {},
   "source": [
    "### Definindo Função de qr_decode para decodificar o codigo"
   ]
  },
  {
   "cell_type": "code",
   "execution_count": 5,
   "metadata": {
    "collapsed": true
   },
   "outputs": [],
   "source": [
    "def qr_decode(img):\n",
    " file_path = img\n",
    " with open(file_path, 'rb') as image_file:\n",
    "     image = Image.open(image_file)\n",
    "     image.load()\n",
    " converted_image = image.convert('L')  \n",
    " image.close() \n",
    " raw = converted_image.tobytes()  \n",
    " width, height = converted_image.size  \n",
    " code = zbarlight.qr_code_scanner(raw, width, height)\n",
    " return img + ' QR code: %s' % code.decode()"
   ]
  },
  {
   "cell_type": "markdown",
   "metadata": {},
   "source": [
    "### Decode with Imagem"
   ]
  },
  {
   "cell_type": "code",
   "execution_count": null,
   "metadata": {
    "collapsed": true
   },
   "outputs": [],
   "source": [
    "print qr_decode(\"img0.png\")\n",
    "print qr_decode(\"img1.png\")\n",
    "print qr_decode(\"img2.png\")\n",
    "print qr_decode(\"img3.png\")\n",
    "print qr_decode(\"img4.png\")"
   ]
  },
  {
   "cell_type": "markdown",
   "metadata": {},
   "source": [
    "### Acessar dados de texto."
   ]
  },
  {
   "cell_type": "code",
   "execution_count": 8,
   "metadata": {
    "collapsed": true
   },
   "outputs": [],
   "source": [
    "comp = open(\"dados\",\"rb\").read().split(\"\\n\\n\")[0].split(\"\\n\") "
   ]
  },
  {
   "cell_type": "code",
   "execution_count": 9,
   "metadata": {
    "collapsed": false
   },
   "outputs": [
    {
     "name": "stdout",
     "output_type": "stream",
     "text": [
      "['siga em frente', 'vire a esquerda', 'retorne', 'pare', 'vire a direita']\n"
     ]
    }
   ],
   "source": [
    "print comp"
   ]
  },
  {
   "cell_type": "code",
   "execution_count": 11,
   "metadata": {
    "collapsed": false
   },
   "outputs": [
    {
     "name": "stdout",
     "output_type": "stream",
     "text": [
      "img0.png  img1.png  img2.png  img3.png\timg4.png\r\n"
     ]
    }
   ],
   "source": [
    "!ls  *.png "
   ]
  },
  {
   "cell_type": "code",
   "execution_count": null,
   "metadata": {
    "collapsed": true
   },
   "outputs": [],
   "source": [
    "def main():\n",
    "    capture = cv2.VideoCapture(1) \n",
    "    while True:\n",
    "        if cv2.waitKey(1) & 0xFF == ord('q'):  \n",
    "            break\n",
    "        ret, frame = capture.read() \n",
    "        gray = cv2.cvtColor(frame, cv2.COLOR_BGR2GRAY) \n",
    "        image = Image.fromarray(gray)  \n",
    "        width, height = image.size \n",
    "        zbar_image = zbar.Image(width, height, 'Y800', image.tostring()) \n",
    "        scanner = zbar.ImageScanner() \n",
    "        scanner.scan(zbar_image) \n",
    "        cv2.imshow('Detect QRCODE', frame)\n",
    "        cv2.imshow('gray', gray)\n",
    "\n",
    "        for decoded in zbar_image: \n",
    "            text = decoded.data  \n",
    "            print text\n",
    "            for p in range(len(comp)):  \n",
    "                if text == comp[p]:\n",
    "                   print \"TEXT:\",text,\"\\t COMPARAR:\",comp[p] "
   ]
  },
  {
   "cell_type": "code",
   "execution_count": null,
   "metadata": {
    "collapsed": true
   },
   "outputs": [],
   "source": [
    "if __name__ == \"__main__\": # EXECUTA A FUNÇÃO \n",
    "    main()"
   ]
  },
  {
   "cell_type": "code",
   "execution_count": 12,
   "metadata": {
    "collapsed": true
   },
   "outputs": [],
   "source": [
    "import numpy as np\n",
    "import pandas as pd"
   ]
  },
  {
   "cell_type": "code",
   "execution_count": 14,
   "metadata": {
    "collapsed": false
   },
   "outputs": [],
   "source": [
    "df = pd.read_csv('dataset.csv')"
   ]
  },
  {
   "cell_type": "code",
   "execution_count": 15,
   "metadata": {
    "collapsed": false
   },
   "outputs": [
    {
     "data": {
      "text/html": [
       "<div>\n",
       "<style scoped>\n",
       "    .dataframe tbody tr th:only-of-type {\n",
       "        vertical-align: middle;\n",
       "    }\n",
       "\n",
       "    .dataframe tbody tr th {\n",
       "        vertical-align: top;\n",
       "    }\n",
       "\n",
       "    .dataframe thead th {\n",
       "        text-align: right;\n",
       "    }\n",
       "</style>\n",
       "<table border=\"1\" class=\"dataframe\">\n",
       "  <thead>\n",
       "    <tr style=\"text-align: right;\">\n",
       "      <th></th>\n",
       "      <th>QRCODE</th>\n",
       "      <th>CMDS</th>\n",
       "    </tr>\n",
       "  </thead>\n",
       "  <tbody>\n",
       "    <tr>\n",
       "      <th>0</th>\n",
       "      <td>siga em frente</td>\n",
       "      <td>w</td>\n",
       "    </tr>\n",
       "    <tr>\n",
       "      <th>1</th>\n",
       "      <td>vire a esquerda</td>\n",
       "      <td>a</td>\n",
       "    </tr>\n",
       "    <tr>\n",
       "      <th>2</th>\n",
       "      <td>retorne</td>\n",
       "      <td>dddd</td>\n",
       "    </tr>\n",
       "    <tr>\n",
       "      <th>3</th>\n",
       "      <td>pare</td>\n",
       "      <td>s</td>\n",
       "    </tr>\n",
       "    <tr>\n",
       "      <th>4</th>\n",
       "      <td>vire a direita</td>\n",
       "      <td>a</td>\n",
       "    </tr>\n",
       "  </tbody>\n",
       "</table>\n",
       "</div>"
      ],
      "text/plain": [
       "            QRCODE  CMDS\n",
       "0   siga em frente     w\n",
       "1  vire a esquerda     a\n",
       "2          retorne  dddd\n",
       "3             pare     s\n",
       "4   vire a direita     a"
      ]
     },
     "execution_count": 15,
     "metadata": {},
     "output_type": "execute_result"
    }
   ],
   "source": [
    "df"
   ]
  },
  {
   "cell_type": "code",
   "execution_count": null,
   "metadata": {
    "collapsed": true
   },
   "outputs": [],
   "source": []
  }
 ],
 "metadata": {
  "kernelspec": {
   "display_name": "Python 2",
   "language": "python",
   "name": "python2"
  },
  "language_info": {
   "codemirror_mode": {
    "name": "ipython",
    "version": 2
   },
   "file_extension": ".py",
   "mimetype": "text/x-python",
   "name": "python",
   "nbconvert_exporter": "python",
   "pygments_lexer": "ipython2",
   "version": "2.7.15rc1"
  }
 },
 "nbformat": 4,
 "nbformat_minor": 2
}
